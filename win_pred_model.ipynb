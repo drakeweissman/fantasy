{
 "cells": [
  {
   "cell_type": "code",
   "execution_count": 32,
   "metadata": {},
   "outputs": [],
   "source": [
    "import pandas as pd\n",
    "from espn_api.football import League\n",
    "from sklearn.model_selection import train_test_split\n",
    "import xgboost as xgb\n",
    "from sklearn.metrics import log_loss, brier_score_loss\n",
    "import matplotlib.pyplot as plt"
   ]
  },
  {
   "cell_type": "code",
   "execution_count": 33,
   "metadata": {},
   "outputs": [],
   "source": [
    "#Fetch league data\n",
    "\n",
    "# Initialize league\n",
    "league_id = 26347\n",
    "espn_s2 = 'AECJTHUB5QQ41P4C5vinQpk7fGVA6h%2BnbM7tsN7mhlpWupwMWzVIKnKFd219nyX3Ss37wALT0z0fYoIOd9zieRZOE6I3nG%2BSSEUksFfA43gw8Hv3ywuj9PXh1fTxJlA9O%2FPfzY9GgfQH1OwPqQsmvWx0Zt7YOZKaBvy1ORbTZfgMfOZCVkqNYWMpBZzHCzAun99t%2FS3i24onjEXOch2vI9E%2Ff4y5%2BRBiE%2BaPaOlfnMTy1d3DbG1E%2FYqnZzNWbT3Yk3%2FFq7cLHbHTL1HF4Ouvgf6N'\n",
    "swid = '{C3FE8278-A2E3-4D18-86D2-0154124A1F16}'\n",
    "year = 2023  # Replace with the specific year you want\n",
    "\n",
    "# Initialize the league for the specific year\n",
    "league = League(league_id=league_id, year=year, espn_s2=espn_s2, swid=swid, debug=False)\n"
   ]
  },
  {
   "cell_type": "code",
   "execution_count": 34,
   "metadata": {},
   "outputs": [],
   "source": [
    "#Create get_matchup_scores function\n",
    "def get_matchup_scores(league, year):\n",
    "    matchup_scores = []\n",
    "\n",
    "    # Iterate through each week\n",
    "    for week in range(1, league.current_week + 1):\n",
    "        # Get the box scores for the current week\n",
    "        box_scores = league.box_scores(week)\n",
    "\n",
    "        # Iterate through each game in the box scores\n",
    "        for game_id, game in enumerate(box_scores, start=1):\n",
    "            home_team = game.home_team\n",
    "            away_team = game.away_team\n",
    "\n",
    "            # Retrieve the scores for each team in the game\n",
    "            home_score = game.home_score\n",
    "            away_score = game.away_score\n",
    "\n",
    "            # Additional information\n",
    "            season = year\n",
    "            home_projected = game.home_projected\n",
    "            away_projected = game.away_projected \n",
    "\n",
    "            matchup_info = {\n",
    "                \"game_id\": game_id,\n",
    "                \"season\": season,\n",
    "                \"week\": week,\n",
    "                \"home_team\": home_team.team_name,\n",
    "                \"home_team_id\": home_team.team_id,\n",
    "                \"home_score\": home_score,\n",
    "                \"away_team\": away_team.team_name,\n",
    "                \"away_team_id\": away_team.team_id,\n",
    "                \"away_score\": away_score,\n",
    "                \"home_projected\": home_projected,\n",
    "                \"away_projected\": away_projected,\n",
    "            }\n",
    "\n",
    "            matchup_scores.append(matchup_info)\n",
    "\n",
    "    return matchup_scores"
   ]
  },
  {
   "cell_type": "code",
   "execution_count": 35,
   "metadata": {},
   "outputs": [],
   "source": [
    "matchup_scores = get_matchup_scores(league, year)"
   ]
  },
  {
   "cell_type": "code",
   "execution_count": 36,
   "metadata": {},
   "outputs": [],
   "source": [
    "#Training Data Specific Cleaning\n",
    "def training_cleaning(matchup_scores):\n",
    "    matchups_df = pd.DataFrame(matchup_scores)\n",
    "    matchups_df['home_team_win'] = (matchups_df['home_score'] > matchups_df['away_score']).astype(int)\n",
    "    matchups_df = matchups_df[matchups_df['home_score'] != 0]\n",
    "    return matchups_df\n",
    "matchups_df = training_cleaning(matchup_scores)"
   ]
  },
  {
   "cell_type": "code",
   "execution_count": 37,
   "metadata": {},
   "outputs": [],
   "source": [
    "#Create a historical standings table - turn into function\n",
    "def create_standings(matchups_df):\n",
    "    # Create an empty DataFrame to store the standings\n",
    "    standings_df = pd.DataFrame()\n",
    "    # Get a list of all unique team IDs\n",
    "    team_ids = matchups_df['home_team_id'].unique()\n",
    "    # Determine the maximum number of weeks in the dataset\n",
    "    max_week = matchups_df['week'].max()\n",
    "    # Iterate through each team\n",
    "    for team_id in team_ids:\n",
    "        # Create a DataFrame for the current team with all weeks' statistics\n",
    "        team_df = pd.DataFrame({\n",
    "            'team_id': [team_id] * max_week,\n",
    "            'prior_to_week': list(range(1, max_week + 1)),\n",
    "            'wins': 0,\n",
    "            'losses': 0,\n",
    "            'points_for': 0,\n",
    "            'points_against': 0,\n",
    "            'win_percentage': 0,\n",
    "            'points_per_game': 0,\n",
    "            'points_against_per_game': 0\n",
    "        })\n",
    "\n",
    "        # Iterate through each week\n",
    "        for week in range(1, max_week + 1):\n",
    "            # Filter the DataFrame to get data prior to the current week\n",
    "            prior_to_week_df = matchups_df[matchups_df['week'] < week]\n",
    "\n",
    "            # Filter the DataFrame to get matches involving the current team\n",
    "            team_matches = prior_to_week_df[(prior_to_week_df['home_team_id'] == team_id) | (prior_to_week_df['away_team_id'] == team_id)]\n",
    "\n",
    "            # Calculate team statistics\n",
    "            team_wins = sum(team_matches['home_team_id'] == team_id)\n",
    "            team_losses = sum(team_matches['away_team_id'] == team_id)\n",
    "            team_points_for = sum(team_matches.loc[team_matches['home_team_id'] == team_id, 'home_score']) + sum(team_matches.loc[team_matches['away_team_id'] == team_id, 'away_score'])\n",
    "            team_points_against = sum(team_matches.loc[team_matches['home_team_id'] == team_id, 'away_score']) + sum(team_matches.loc[team_matches['away_team_id'] == team_id, 'home_score'])\n",
    "            total_games = team_wins + team_losses\n",
    "            win_percentage = team_wins / total_games if total_games > 0 else 0\n",
    "            points_per_game = team_points_for / total_games if total_games > 0 else 0\n",
    "            points_against_per_game = team_points_against / total_games if total_games > 0 else 0\n",
    "\n",
    "            # Update the current week's statistics in the team's DataFrame\n",
    "            team_df.loc[week - 1, 'wins'] = team_wins\n",
    "            team_df.loc[week - 1, 'losses'] = team_losses\n",
    "            team_df.loc[week - 1, 'points_for'] = team_points_for\n",
    "            team_df.loc[week - 1, 'points_against'] = team_points_against\n",
    "            team_df.loc[week - 1, 'win_percentage'] = win_percentage\n",
    "            team_df.loc[week - 1, 'points_per_game'] = points_per_game\n",
    "            team_df.loc[week - 1, 'points_against_per_game'] = points_against_per_game\n",
    "\n",
    "        # Append the team's DataFrame to the standings DataFrame\n",
    "        standings_df = pd.concat([standings_df, team_df], ignore_index=True)\n",
    "    return standings_df\n",
    "\n",
    "standings_df = create_standings(matchups_df)"
   ]
  },
  {
   "cell_type": "code",
   "execution_count": 38,
   "metadata": {},
   "outputs": [],
   "source": [
    "def matchups_preprocessing(matchups_df,standings_df):\n",
    "    #Column creation and set index\n",
    "    matchups_df['matchup_id'] =  matchups_df['season'].astype(str) + matchups_df['week'].astype(str) + matchups_df['game_id'].astype(str)\n",
    "    matchups_df.set_index('matchup_id', inplace=True)\n",
    "\n",
    "    # Merge historical standings into matchup data to get team stats prior to each matchup\n",
    "\n",
    "    # Merge 'standings_df' into 'df' for home team's statistics\n",
    "    matchups_df = pd.merge(matchups_df, standings_df, how='left', left_on=['home_team_id', 'week'], right_on=['team_id', 'prior_to_week'])\n",
    "    # Rename the columns for home team's statistics\n",
    "    matchups_df = matchups_df.rename(columns={\n",
    "        'win_percentage': 'home_team_win_pct',\n",
    "        'points_per_game': 'home_team_ppg'\n",
    "    })\n",
    "    # Drop the redundant columns from the merge\n",
    "    matchups_df = matchups_df.drop(['team_id', 'prior_to_week', 'wins', 'losses', 'points_for', 'points_against', 'points_against_per_game'], axis=1)\n",
    "    # Merge 'standings_df' into 'df' for away team's statistics\n",
    "    matchups_df = pd.merge(matchups_df, standings_df, how='left', left_on=['away_team_id', 'week'], right_on=['team_id', 'prior_to_week'])\n",
    "    # Rename the columns for away team's statistics\n",
    "    matchups_df = matchups_df.rename(columns={\n",
    "        'win_percentage': 'away_team_win_pct',\n",
    "        'points_per_game': 'away_team_ppg'\n",
    "    })\n",
    "    # Drop the redundant columns from the merge\n",
    "    matchups_df = matchups_df.drop(['team_id', 'prior_to_week', 'wins', 'losses', 'points_for', 'points_against', 'points_against_per_game'], axis=1)\n",
    "    return matchups_df\n",
    "matchups_df = matchups_preprocessing(matchups_df,standings_df)"
   ]
  },
  {
   "cell_type": "markdown",
   "metadata": {},
   "source": [
    "### Training"
   ]
  },
  {
   "cell_type": "code",
   "execution_count": 56,
   "metadata": {},
   "outputs": [],
   "source": [
    "# Specify the features and target variable\n",
    "X = matchups_df[['home_team_win_pct', 'away_team_win_pct','home_team_ppg','away_team_ppg', 'season','away_projected','home_projected','week']] # Features\n",
    "y = matchups_df['home_team_win']\n",
    "\n",
    "#Split data based into training and test sets (Weeks 1-5, Weeks 7-9)) \n",
    "X_train = X[X['week'] < 6]\n",
    "X_test = X[X['week'] > 6]\n",
    "y_train = y[X_train.index]\n",
    "y_test = y[X_test.index]"
   ]
  },
  {
   "cell_type": "code",
   "execution_count": 57,
   "metadata": {},
   "outputs": [
    {
     "name": "stdout",
     "output_type": "stream",
     "text": [
      "Training Accuracy: 1.0000\n",
      "Test Accuracy: 0.4667\n",
      "Training Log Loss: 0.1512\n",
      "Test Log Loss: 1.5223\n",
      "Training Brier Score: 0.0268\n",
      "Test Brier Score: 0.4172\n"
     ]
    }
   ],
   "source": [
    "#Fit model\n",
    "\n",
    "# Create an XGBoost classifier\n",
    "xgb_classifier = xgb.XGBClassifier()\n",
    "# Fit the classifier to the training data\n",
    "xgb_classifier.fit(X_train, y_train)"
   ]
  },
  {
   "cell_type": "code",
   "execution_count": null,
   "metadata": {},
   "outputs": [],
   "source": [
    "#Calc Metrics\n",
    "\n",
    "# Calculate accuracy on training and test data\n",
    "test_accuracy = xgb_classifier.score(X_test, y_test)\n",
    "print(f\"Test Accuracy: {test_accuracy:.4f}\")\n",
    "\n",
    "# Get probability estimates for both training and test data\n",
    "y_train_prob = xgb_classifier.predict_proba(X_train)\n",
    "y_test_prob = xgb_classifier.predict_proba(X_test)\n",
    "\n",
    "# Calculate log loss on training and test data\n",
    "test_log_loss = log_loss(y_test, y_test_prob)\n",
    "print(f\"Test Log Loss: {test_log_loss:.4f}\")\n",
    "\n"
   ]
  },
  {
   "cell_type": "code",
   "execution_count": 59,
   "metadata": {},
   "outputs": [
    {
     "name": "stdout",
     "output_type": "stream",
     "text": [
      "Baseline accuracy: 0.6000\n"
     ]
    }
   ],
   "source": [
    "# Baseline Model Using ESPN Projections\n",
    "def baseline_pred(dataset):\n",
    "    #if home team has higher projection, predict home team win\n",
    "    dataset['home_team_win_pred'] = (dataset['home_projected'] > dataset['away_projected']).astype(int)\n",
    "    #check accuracy of baseline model\n",
    "    dataset['home_team_win'] = (dataset['home_score'] > dataset['away_score']).astype(int)\n",
    "    dataset['home_team_win_correct'] = (dataset['home_team_win'] == dataset['home_team_win_pred']).astype(int)\n",
    "    baseline_accuracy = dataset['home_team_win_correct'].mean()\n",
    "    print(f\"Baseline accuracy: {baseline_accuracy:.4f}\")\n",
    "    \n",
    "\n",
    "baseline_pred(matchups_df)"
   ]
  },
  {
   "cell_type": "code",
   "execution_count": null,
   "metadata": {},
   "outputs": [],
   "source": [
    "# Check feature importances\n",
    "#Turn into function with N as input\n",
    "feature_importances = xgb_classifier.feature_importances_\n",
    "\n",
    "# Get the names of the features\n",
    "feature_names = X_train.columns\n",
    "\n",
    "# Create a DataFrame to display the feature importances\n",
    "importance_df = pd.DataFrame({'Feature': feature_names, 'Importance': feature_importances})\n",
    "\n",
    "# Sort the DataFrame by importance in descending order\n",
    "importance_df = importance_df.sort_values(by='Importance', ascending=False)\n",
    "\n",
    "# Display the top N most important features\n",
    "N = 7  # Change N to the number of top features you want to display\n",
    "top_features = importance_df.head(N)\n",
    "\n",
    "\n",
    "# Plot the feature importances\n",
    "plt.figure(figsize=(10, 6))\n",
    "plt.barh(range(N), top_features['Importance'], align='center')\n",
    "plt.yticks(range(N), top_features['Feature'])\n",
    "plt.xlabel('Feature Importance')\n",
    "plt.title('Top Feature Importances')\n",
    "plt.show()"
   ]
  },
  {
   "cell_type": "code",
   "execution_count": null,
   "metadata": {},
   "outputs": [],
   "source": [
    "#Pickle the model\n",
    "import pickle\n",
    "filename = 'xgb_win_pred_model.sav'\n",
    "pickle.dump(xgb_classifier, open(filename, 'wb'))"
   ]
  },
  {
   "cell_type": "markdown",
   "metadata": {},
   "source": [
    "### Pull matchups, filter on newest, update standings?, preprocess, predict_proba"
   ]
  },
  {
   "cell_type": "code",
   "execution_count": null,
   "metadata": {},
   "outputs": [],
   "source": [
    "# Pull from API to get upcoming week's matchups to make predictions on\n"
   ]
  },
  {
   "cell_type": "code",
   "execution_count": null,
   "metadata": {},
   "outputs": [],
   "source": []
  }
 ],
 "metadata": {
  "kernelspec": {
   "display_name": "Python 3",
   "language": "python",
   "name": "python3"
  },
  "language_info": {
   "codemirror_mode": {
    "name": "ipython",
    "version": 3
   },
   "file_extension": ".py",
   "mimetype": "text/x-python",
   "name": "python",
   "nbconvert_exporter": "python",
   "pygments_lexer": "ipython3",
   "version": "3.9.6"
  },
  "orig_nbformat": 4
 },
 "nbformat": 4,
 "nbformat_minor": 2
}
