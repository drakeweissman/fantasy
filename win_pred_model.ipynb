{
 "cells": [
  {
   "cell_type": "code",
   "execution_count": 100,
   "metadata": {},
   "outputs": [],
   "source": [
    "import pandas as pd\n",
    "from espn_api.football import League\n",
    "from sklearn.model_selection import train_test_split\n",
    "import xgboost as xgb\n",
    "from sklearn.metrics import log_loss, brier_score_loss\n",
    "import matplotlib.pyplot as plt"
   ]
  },
  {
   "cell_type": "code",
   "execution_count": 101,
   "metadata": {},
   "outputs": [],
   "source": [
    "#Fetch league data\n",
    "\n",
    "# Initialize league\n",
    "league_id = 26347\n",
    "espn_s2 = 'AECJTHUB5QQ41P4C5vinQpk7fGVA6h%2BnbM7tsN7mhlpWupwMWzVIKnKFd219nyX3Ss37wALT0z0fYoIOd9zieRZOE6I3nG%2BSSEUksFfA43gw8Hv3ywuj9PXh1fTxJlA9O%2FPfzY9GgfQH1OwPqQsmvWx0Zt7YOZKaBvy1ORbTZfgMfOZCVkqNYWMpBZzHCzAun99t%2FS3i24onjEXOch2vI9E%2Ff4y5%2BRBiE%2BaPaOlfnMTy1d3DbG1E%2FYqnZzNWbT3Yk3%2FFq7cLHbHTL1HF4Ouvgf6N'\n",
    "swid = '{C3FE8278-A2E3-4D18-86D2-0154124A1F16}'\n",
    "year = 2023  # Replace with the specific year you want\n",
    "\n",
    "# Initialize the league for the specific year\n",
    "league = League(league_id=league_id, year=year, espn_s2=espn_s2, swid=swid, debug=False)\n"
   ]
  },
  {
   "cell_type": "code",
   "execution_count": 102,
   "metadata": {},
   "outputs": [],
   "source": [
    "# Pull all matchups - turn into function\n",
    "matchup_scores = []\n",
    "\n",
    "# Iterate through each week\n",
    "for week in range(1, league.current_week + 1):\n",
    "    # Get the box scores for the current week\n",
    "    box_scores = league.box_scores(week)\n",
    "\n",
    "    # Iterate through each game in the box scores\n",
    "    for game_id, game in enumerate(box_scores, start=1):\n",
    "        home_team = game.home_team\n",
    "        away_team = game.away_team\n",
    "\n",
    "        # Retrieve the scores for each team in the game\n",
    "        home_score = game.home_score\n",
    "        away_score = game.away_score\n",
    "\n",
    "        # Additional information\n",
    "        season = year\n",
    "        home_projected = game.home_projected\n",
    "        away_projected = game.away_projected \n",
    "\n",
    "        matchup_info = {\n",
    "            \"game_id\": game_id,\n",
    "            \"season\": season,\n",
    "            \"week\": week,\n",
    "            \"home_team\": home_team.team_name,\n",
    "            \"home_team_id\": home_team.team_id,\n",
    "            \"home_score\": home_score,\n",
    "            \"away_team\": away_team.team_name,\n",
    "            \"away_team_id\": away_team.team_id,\n",
    "            \"away_score\": away_score,\n",
    "            \"home_projected\": home_projected,\n",
    "            \"away_projected\": away_projected,\n",
    "        }\n",
    "\n",
    "        matchup_scores.append(matchup_info)\n",
    "\n",
    "# Now, matchup_scores contains information about scores, season, projections, and other details for each matchup in every week\n"
   ]
  },
  {
   "cell_type": "code",
   "execution_count": 103,
   "metadata": {},
   "outputs": [],
   "source": [
    "#Training Data Specific Cleaning\n",
    "matchups_df = pd.DataFrame(matchup_scores)\n",
    "matchups_df['home_team_win'] = (matchups_df['home_score'] > matchups_df['away_score']).astype(int)\n",
    "matchups_df = matchups_df[matchups_df['home_score'] != 0]"
   ]
  },
  {
   "cell_type": "code",
   "execution_count": 104,
   "metadata": {},
   "outputs": [],
   "source": [
    "#Create a historical standings table - turn into function\n",
    "\n",
    "# Create an empty DataFrame to store the standings\n",
    "standings_df = pd.DataFrame()\n",
    "# Get a list of all unique team IDs\n",
    "team_ids = matchups_df['home_team_id'].unique()\n",
    "# Determine the maximum number of weeks in the dataset\n",
    "max_week = matchups_df['week'].max()\n",
    "# Iterate through each team\n",
    "for team_id in team_ids:\n",
    "    # Create a DataFrame for the current team with all weeks' statistics\n",
    "    team_df = pd.DataFrame({\n",
    "        'team_id': [team_id] * max_week,\n",
    "        'prior_to_week': list(range(1, max_week + 1)),\n",
    "        'wins': 0,\n",
    "        'losses': 0,\n",
    "        'points_for': 0,\n",
    "        'points_against': 0,\n",
    "        'win_percentage': 0,\n",
    "        'points_per_game': 0,\n",
    "        'points_against_per_game': 0\n",
    "    })\n",
    "\n",
    "    # Iterate through each week\n",
    "    for week in range(1, max_week + 1):\n",
    "        # Filter the DataFrame to get data prior to the current week\n",
    "        prior_to_week_df = matchups_df[matchups_df['week'] < week]\n",
    "\n",
    "        # Filter the DataFrame to get matches involving the current team\n",
    "        team_matches = prior_to_week_df[(prior_to_week_df['home_team_id'] == team_id) | (prior_to_week_df['away_team_id'] == team_id)]\n",
    "\n",
    "        # Calculate team statistics\n",
    "        team_wins = sum(team_matches['home_team_id'] == team_id)\n",
    "        team_losses = sum(team_matches['away_team_id'] == team_id)\n",
    "        team_points_for = sum(team_matches.loc[team_matches['home_team_id'] == team_id, 'home_score']) + sum(team_matches.loc[team_matches['away_team_id'] == team_id, 'away_score'])\n",
    "        team_points_against = sum(team_matches.loc[team_matches['home_team_id'] == team_id, 'away_score']) + sum(team_matches.loc[team_matches['away_team_id'] == team_id, 'home_score'])\n",
    "        total_games = team_wins + team_losses\n",
    "        win_percentage = team_wins / total_games if total_games > 0 else 0\n",
    "        points_per_game = team_points_for / total_games if total_games > 0 else 0\n",
    "        points_against_per_game = team_points_against / total_games if total_games > 0 else 0\n",
    "\n",
    "        # Update the current week's statistics in the team's DataFrame\n",
    "        team_df.loc[week - 1, 'wins'] = team_wins\n",
    "        team_df.loc[week - 1, 'losses'] = team_losses\n",
    "        team_df.loc[week - 1, 'points_for'] = team_points_for\n",
    "        team_df.loc[week - 1, 'points_against'] = team_points_against\n",
    "        team_df.loc[week - 1, 'win_percentage'] = win_percentage\n",
    "        team_df.loc[week - 1, 'points_per_game'] = points_per_game\n",
    "        team_df.loc[week - 1, 'points_against_per_game'] = points_against_per_game\n",
    "\n",
    "    # Append the team's DataFrame to the standings DataFrame\n",
    "    standings_df = pd.concat([standings_df, team_df], ignore_index=True)"
   ]
  },
  {
   "cell_type": "code",
   "execution_count": 105,
   "metadata": {},
   "outputs": [],
   "source": [
    "#Column creation and set index\n",
    "matchups_df['matchup_id'] =  matchups_df['season'].astype(str) + matchups_df['week'].astype(str) + matchups_df['game_id'].astype(str)\n",
    "matchups_df.set_index('matchup_id', inplace=True)\n",
    "\n",
    "# Merge historical standings into matchup data to get team stats prior to each matchup\n",
    "\n",
    "# Merge 'standings_df' into 'df' for home team's statistics\n",
    "matchups_df = pd.merge(matchups_df, standings_df, how='left', left_on=['home_team_id', 'week'], right_on=['team_id', 'prior_to_week'])\n",
    "# Rename the columns for home team's statistics\n",
    "matchups_df = matchups_df.rename(columns={\n",
    "    'win_percentage': 'home_team_win_pct',\n",
    "    'points_per_game': 'home_team_ppg'\n",
    "})\n",
    "# Drop the redundant columns from the merge\n",
    "matchups_df = matchups_df.drop(['team_id', 'prior_to_week', 'wins', 'losses', 'points_for', 'points_against', 'points_against_per_game'], axis=1)\n",
    "# Merge 'standings_df' into 'df' for away team's statistics\n",
    "matchups_df = pd.merge(matchups_df, standings_df, how='left', left_on=['away_team_id', 'week'], right_on=['team_id', 'prior_to_week'])\n",
    "# Rename the columns for away team's statistics\n",
    "matchups_df = matchups_df.rename(columns={\n",
    "    'win_percentage': 'away_team_win_pct',\n",
    "    'points_per_game': 'away_team_ppg'\n",
    "})\n",
    "# Drop the redundant columns from the merge\n",
    "matchups_df = matchups_df.drop(['team_id', 'prior_to_week', 'wins', 'losses', 'points_for', 'points_against', 'points_against_per_game'], axis=1)"
   ]
  },
  {
   "cell_type": "code",
   "execution_count": 106,
   "metadata": {},
   "outputs": [],
   "source": [
    "# Specify the features and target variable\n",
    "X = matchups_df.drop(columns=['home_team_win','home_team','away_team','away_score','home_score','home_team_id','away_team_id','game_id'])  # Replace 'target_column' with the name of your target variable\n",
    "y = matchups_df['home_team_win']\n",
    "\n",
    "# Split the data into training and test sets (e.g., 80% train and 20% test)\n",
    "X_train, X_test, y_train, y_test = train_test_split(X, y, test_size=0.2, random_state=42)\n"
   ]
  },
  {
   "cell_type": "code",
   "execution_count": 107,
   "metadata": {},
   "outputs": [
    {
     "name": "stdout",
     "output_type": "stream",
     "text": [
      "Training Accuracy: 1.0000\n",
      "Test Accuracy: 0.7778\n",
      "Training Log Loss: 0.1160\n",
      "Test Log Loss: 0.6742\n",
      "Training Brier Score: 0.0192\n",
      "Test Brier Score: 0.2008\n"
     ]
    }
   ],
   "source": [
    "# Create an XGBoost classifier\n",
    "xgb_classifier = xgb.XGBClassifier()\n",
    "\n",
    "# Fit the classifier to the training data\n",
    "xgb_classifier.fit(X_train, y_train)\n",
    "\n",
    "# Calculate accuracy on training and test data\n",
    "train_accuracy = xgb_classifier.score(X_train, y_train)\n",
    "test_accuracy = xgb_classifier.score(X_test, y_test)\n",
    "print(f\"Training Accuracy: {train_accuracy:.4f}\")\n",
    "print(f\"Test Accuracy: {test_accuracy:.4f}\")\n",
    "\n",
    "# Get probability estimates for both training and test data\n",
    "y_train_prob = xgb_classifier.predict_proba(X_train)\n",
    "y_test_prob = xgb_classifier.predict_proba(X_test)\n",
    "\n",
    "# Calculate log loss on training and test data\n",
    "train_log_loss = log_loss(y_train, y_train_prob)\n",
    "test_log_loss = log_loss(y_test, y_test_prob)\n",
    "print(f\"Training Log Loss: {train_log_loss:.4f}\")\n",
    "print(f\"Test Log Loss: {test_log_loss:.4f}\")\n",
    "\n",
    "# Calculate Brier score on training and test data\n",
    "train_brier_score = brier_score_loss(y_train, y_train_prob[:, 1])  # Use probability of the positive class\n",
    "test_brier_score = brier_score_loss(y_test, y_test_prob[:, 1])\n",
    "print(f\"Training Brier Score: {train_brier_score:.4f}\")\n",
    "print(f\"Test Brier Score: {test_brier_score:.4f}\")\n",
    "\n",
    "#Pickle the model\n",
    "import pickle\n",
    "filename = 'xgb_win_pred_model.sav'\n",
    "pickle.dump(xgb_classifier, open(filename, 'wb'))"
   ]
  },
  {
   "cell_type": "code",
   "execution_count": 108,
   "metadata": {},
   "outputs": [
    {
     "data": {
      "image/png": "[encoded data removed]",
      "text/plain": [
       "<Figure size 1000x600 with 1 Axes>"
      ]
     },
     "metadata": {},
     "output_type": "display_data"
    }
   ],
   "source": [
    "feature_importances = xgb_classifier.feature_importances_\n",
    "\n",
    "# Get the names of the features\n",
    "feature_names = X_train.columns\n",
    "\n",
    "# Create a DataFrame to display the feature importances\n",
    "importance_df = pd.DataFrame({'Feature': feature_names, 'Importance': feature_importances})\n",
    "\n",
    "# Sort the DataFrame by importance in descending order\n",
    "importance_df = importance_df.sort_values(by='Importance', ascending=False)\n",
    "\n",
    "# Display the top N most important features\n",
    "N = 7  # Change N to the number of top features you want to display\n",
    "top_features = importance_df.head(N)\n",
    "\n",
    "\n",
    "# Plot the feature importances\n",
    "plt.figure(figsize=(10, 6))\n",
    "plt.barh(range(N), top_features['Importance'], align='center')\n",
    "plt.yticks(range(N), top_features['Feature'])\n",
    "plt.xlabel('Feature Importance')\n",
    "plt.title('Top Feature Importances')\n",
    "plt.show()"
   ]
  },
  {
   "cell_type": "code",
   "execution_count": 109,
   "metadata": {},
   "outputs": [
    {
     "name": "stdout",
     "output_type": "stream",
     "text": [
      "Baseline accuracy: 0.6000\n"
     ]
    }
   ],
   "source": [
    "# Baseline Model Using ESPN Projections\n",
    "def baseline_pred(dataset):\n",
    "    #if home team has higher projection, predict home team win\n",
    "    dataset['home_team_win_pred'] = (dataset['home_projected'] > dataset['away_projected']).astype(int)\n",
    "    #check accuracy of baseline model\n",
    "    dataset['home_team_win'] = (dataset['home_score'] > dataset['away_score']).astype(int)\n",
    "    dataset['home_team_win_correct'] = (dataset['home_team_win'] == dataset['home_team_win_pred']).astype(int)\n",
    "    baseline_accuracy = dataset['home_team_win_correct'].mean()\n",
    "    print(f\"Baseline accuracy: {baseline_accuracy:.4f}\")\n",
    "    \n",
    "\n",
    "baseline_pred(matchups_df)"
   ]
  },
  {
   "cell_type": "code",
   "execution_count": 110,
   "metadata": {},
   "outputs": [],
   "source": [
    "# Pull from API to get upcoming week's matchups to make predictions on\n"
   ]
  },
  {
   "cell_type": "code",
   "execution_count": null,
   "metadata": {},
   "outputs": [],
   "source": []
  }
 ],
 "metadata": {
  "kernelspec": {
   "display_name": "Python 3",
   "language": "python",
   "name": "python3"
  },
  "language_info": {
   "codemirror_mode": {
    "name": "ipython",
    "version": 3
   },
   "file_extension": ".py",
   "mimetype": "text/x-python",
   "name": "python",
   "nbconvert_exporter": "python",
   "pygments_lexer": "ipython3",
   "version": "3.9.6"
  },
  "orig_nbformat": 4
 },
 "nbformat": 4,
 "nbformat_minor": 2
}
